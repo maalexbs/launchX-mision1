{
 "cells": [
  {
   "cell_type": "markdown",
   "metadata": {},
   "source": [
    "# Ejercicios con if, else, elif"
   ]
  },
  {
   "cell_type": "markdown",
   "metadata": {},
   "source": [
    "## ¿Advertencia o no?"
   ]
  },
  {
   "cell_type": "code",
   "execution_count": null,
   "metadata": {},
   "outputs": [],
   "source": [
    "speedAsteroid = 49\n",
    "\n",
    "if speedAsteroid > 25:\n",
    "    print(\"Advertencia! Un asteroide se acerca a \" + str(speedAsteroid) + \" kms/s.\")\n",
    "else: \n",
    "    print(\"No tienes por qué preocuparte.\")"
   ]
  },
  {
   "cell_type": "markdown",
   "metadata": {},
   "source": [
    "## ¿Se ve en el cielo o no?"
   ]
  },
  {
   "cell_type": "code",
   "execution_count": null,
   "metadata": {},
   "outputs": [],
   "source": [
    "newAsteroid = 19\n",
    "\n",
    "if newAsteroid > 20: \n",
    "    print(\"Puedes ver el asteroide desde la Tierra.\")\n",
    "elif newAsteroid == 20:\n",
    "    print(\"Puedes ver el asteroide desde la Tierra.\")\n",
    "else: \n",
    "    print(\"Nada que ver.\")"
   ]
  },
  {
   "cell_type": "markdown",
   "metadata": {},
   "source": [
    "## Mejorando el sistema "
   ]
  },
  {
   "cell_type": "code",
   "execution_count": 9,
   "metadata": {},
   "outputs": [
    {
     "name": "stdout",
     "output_type": "stream",
     "text": [
      "Advertencia! Un asteroide grande de 46 metros se acerca a la Tierra a 46 km/s.\n"
     ]
    }
   ],
   "source": [
    "sizeAsteroid = 46\n",
    "speedAsteroid = 46\n",
    "\n",
    "if sizeAsteroid > 25 and speedAsteroid > 25:\n",
    "    print(\"Advertencia! Un asteroide grande de \" + str(sizeAsteroid) + \" metros se acerca a la Tierra a \" + str(speedAsteroid) + \" km/s.\")\n",
    "elif speedAsteroid >= 20 and sizeAsteroid < 25:\n",
    "    print(\"Puedes ver el asteroide desde la Tierra.\")\n",
    "elif sizeAsteroid < 25: \n",
    "    print(\"No hay nada de qué preocuparse.\")\n",
    "else: \n",
    "    print(\"No hay nada de qué preocuparse.\") "
   ]
  }
 ],
 "metadata": {
  "interpreter": {
   "hash": "e8c954cfe51fa3e1a8f5fd5b5b324eceb9eb77e7654e2be7d7bc294cd32a0965"
  },
  "kernelspec": {
   "display_name": "Python 3.10.2 64-bit",
   "language": "python",
   "name": "python3"
  },
  "language_info": {
   "codemirror_mode": {
    "name": "ipython",
    "version": 3
   },
   "file_extension": ".py",
   "mimetype": "text/x-python",
   "name": "python",
   "nbconvert_exporter": "python",
   "pygments_lexer": "ipython3",
   "version": "3.10.2"
  },
  "orig_nbformat": 4
 },
 "nbformat": 4,
 "nbformat_minor": 2
}
