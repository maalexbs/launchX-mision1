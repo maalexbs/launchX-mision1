{
 "cells": [
  {
   "cell_type": "markdown",
   "metadata": {},
   "source": [
    "# Ejercicio 1"
   ]
  },
  {
   "cell_type": "code",
   "execution_count": 1,
   "metadata": {},
   "outputs": [],
   "source": [
    "def gastank(tank1,tank2,tank3):\n",
    "    prom = (tank1+tank2+tank3)/3\n",
    "    return f'El promedio de gasolina en los tanques es: {prom}%'"
   ]
  },
  {
   "cell_type": "code",
   "execution_count": null,
   "metadata": {},
   "outputs": [],
   "source": [
    "print(gastank(15,87,39))"
   ]
  },
  {
   "cell_type": "code",
   "execution_count": 4,
   "metadata": {},
   "outputs": [],
   "source": [
    "def promedio(args):\n",
    "    suma = sum(args)\n",
    "    div = len(args)\n",
    "    return suma/div"
   ]
  },
  {
   "cell_type": "code",
   "execution_count": 9,
   "metadata": {},
   "outputs": [],
   "source": [
    "def gastank(tank1,tank2,tank3):\n",
    "    prom = promedio([tank1,tank2,tank3])\n",
    "    return f'El promedio de gasolina en los tanques es: {prom}%'"
   ]
  },
  {
   "cell_type": "code",
   "execution_count": null,
   "metadata": {},
   "outputs": [],
   "source": [
    "print(gastank(67,23,9))"
   ]
  },
  {
   "cell_type": "markdown",
   "metadata": {},
   "source": [
    "# Ejercicio 2"
   ]
  },
  {
   "cell_type": "code",
   "execution_count": 11,
   "metadata": {},
   "outputs": [],
   "source": [
    "def report(pretime,nowtime,leftank,destination):\n",
    "    return f\"\"\"Tiempo de llegada: {pretime + nowtime} minutos \n",
    "    Combustible restante: {leftank} litros\n",
    "    Destino: {destination}\"\"\""
   ]
  },
  {
   "cell_type": "code",
   "execution_count": null,
   "metadata": {},
   "outputs": [],
   "source": [
    "print(report(23,37,65,\"Jupiter\"))"
   ]
  },
  {
   "cell_type": "code",
   "execution_count": 14,
   "metadata": {},
   "outputs": [],
   "source": [
    "def report(destination,*time,**tanks):\n",
    "    return f\"\"\"Tiempo de llegada: {sum(time)} minutos \n",
    "    Combustible restante: {sum(tanks.values())} litros\n",
    "    Destino: {destination}\"\"\""
   ]
  },
  {
   "cell_type": "code",
   "execution_count": null,
   "metadata": {},
   "outputs": [],
   "source": [
    "print(report(\"Jupiter\",18,19,principal=89,izq=78))"
   ]
  },
  {
   "cell_type": "code",
   "execution_count": 22,
   "metadata": {},
   "outputs": [],
   "source": [
    "def report(destination,*time,**tanks):\n",
    "    checkup = f\"\"\"Tiempo de llegada: {sum(time)} minutos \n",
    "    Destino: {destination}\n",
    "    Combustible restante: {sum(tanks.values())} litros\"\"\"\n",
    "\n",
    "    for tank,gas in tanks.items():\n",
    "        checkup += f\"\"\"\\nEl tanque {tank} tiene {gas} litros\"\"\"\n",
    "    \n",
    "    return checkup"
   ]
  },
  {
   "cell_type": "code",
   "execution_count": 23,
   "metadata": {},
   "outputs": [
    {
     "name": "stdout",
     "output_type": "stream",
     "text": [
      "Tiempo de llegada: 37 minutos \n",
      "    Destino: Jupiter\n",
      "    Combustible restante: 167 litros\n",
      "El tanque principal tiene 89 litros\n",
      "El tanque izquierda tiene 78 litros\n"
     ]
    }
   ],
   "source": [
    "print(report(\"Jupiter\",18,19,principal=89,izquierdo=78))"
   ]
  }
 ],
 "metadata": {
  "interpreter": {
   "hash": "e8c954cfe51fa3e1a8f5fd5b5b324eceb9eb77e7654e2be7d7bc294cd32a0965"
  },
  "kernelspec": {
   "display_name": "Python 3.10.2 64-bit",
   "language": "python",
   "name": "python3"
  },
  "language_info": {
   "codemirror_mode": {
    "name": "ipython",
    "version": 3
   },
   "file_extension": ".py",
   "mimetype": "text/x-python",
   "name": "python",
   "nbconvert_exporter": "python",
   "pygments_lexer": "ipython3",
   "version": "3.10.2"
  },
  "orig_nbformat": 4
 },
 "nbformat": 4,
 "nbformat_minor": 2
}
